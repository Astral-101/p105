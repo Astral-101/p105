{
  "nbformat": 4,
  "nbformat_minor": 0,
  "metadata": {
    "colab": {
      "name": "Snippets: Sheets",
      "provenance": [],
      "collapsed_sections": [],
      "include_colab_link": true
    },
    "kernelspec": {
      "display_name": "Python 3",
      "name": "python3"
    }
  },
  "cells": [
    {
      "cell_type": "markdown",
      "metadata": {
        "id": "view-in-github",
        "colab_type": "text"
      },
      "source": [
        "<a href=\"https://colab.research.google.com/github/Astral-101/p105/blob/main/Snippets_Sheets.ipynb\" target=\"_parent\"><img src=\"https://colab.research.google.com/assets/colab-badge.svg\" alt=\"Open In Colab\"/></a>"
      ]
    },
    {
      "cell_type": "markdown",
      "metadata": {
        "id": "sOm9PFrT8mGG"
      },
      "source": [
        "# Saving data to Google Sheets\n",
        "\n",
        "\n",
        "This snippet uses the open-source [gspread](https://github.com/burnash/gspread) library for interacting with Sheets."
      ]
    },
    {
      "cell_type": "markdown",
      "metadata": {
        "id": "pCX0Tes_X2Vn"
      },
      "source": [
        "# Mean\n"
      ]
    },
    {
      "cell_type": "markdown",
      "metadata": {
        "id": "k9q0pp33dckN"
      },
      "source": [
        "# Importing data from Google Sheets"
      ]
    },
    {
      "cell_type": "code",
      "metadata": {
        "colab": {
          "base_uri": "https://localhost:8080/"
        },
        "id": "6d0xJz3VzLOo",
        "outputId": "50ad4f3b-0070-4cc3-eb0c-8fc2aa086dd1"
      },
      "source": [
        "import math\n",
        "import csv\n",
        "\n",
        "with open(\"data.csv\", newline= \"\" ) as f:\n",
        "    reader= csv.reader(f)\n",
        "    fileData = list(reader)\n",
        "\n",
        "data = fileData[0]\n",
        "\n",
        "def mean(data):\n",
        "  n = len(data)\n",
        "  total = 0 \n",
        "\n",
        "  for x in data:\n",
        "    total+=int(x)\n",
        "\n",
        "  mean = total/n\n",
        "  return mean\n",
        "\n",
        "#Squaring the list \n",
        "squareList = []\n",
        "\n",
        "for num in data:\n",
        "  a = int(num) - mean(data)\n",
        "  a = a**2\n",
        "  squareList.append(a)\n",
        "\n",
        "sum = 0\n",
        "for i in squareList:\n",
        "  sum+=i\n",
        "\n",
        "result = sum/ len(data)-1\n",
        "print(result)\n",
        "\n",
        "sd = math.sqrt(result)\n",
        "print(sd)\n",
        "\n",
        "\n",
        "\n",
        "\n",
        "\n",
        "\n",
        "\n",
        "\n",
        "\n",
        "\n",
        "\n",
        "\n",
        "\n",
        "\n",
        "\n",
        "\n",
        "\n",
        "\n",
        "\n",
        "\n",
        "\n",
        "\n",
        "\n",
        "\n",
        "\n",
        "\n",
        "\n",
        "\n",
        "\n"
      ],
      "execution_count": 11,
      "outputs": [
        {
          "output_type": "stream",
          "name": "stdout",
          "text": [
            "261.96\n",
            "16.18517840494815\n"
          ]
        }
      ]
    },
    {
      "cell_type": "code",
      "metadata": {
        "id": "JiJVCmu3dhFa"
      },
      "source": [
        "from google.colab import auth\n",
        "auth.authenticate_user()\n",
        "\n",
        "import gspread\n",
        "from oauth2client.client import GoogleCredentials\n",
        "\n",
        "gc = gspread.authorize(GoogleCredentials.get_application_default())\n",
        "\n",
        "worksheet = gc.open('Your spreadsheet name').sheet1\n",
        "\n",
        "# get_all_values gives a list of rows.\n",
        "rows = worksheet.get_all_values()\n",
        "print(rows)\n",
        "\n",
        "# Convert to a DataFrame and render.\n",
        "import pandas as pd\n",
        "pd.DataFrame.from_records(rows)"
      ],
      "execution_count": null,
      "outputs": []
    }
  ]
}